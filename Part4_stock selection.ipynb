{
 "cells": [
  {
   "cell_type": "markdown",
   "id": "2ca09ed6",
   "metadata": {},
   "source": [
    "# Make money in stocks"
   ]
  },
  {
   "cell_type": "markdown",
   "id": "f0ce6db1",
   "metadata": {},
   "source": [
    "## Part 4: Stock Selection & Q learning—Stock Selection"
   ]
  },
  {
   "cell_type": "markdown",
   "id": "a4686f82",
   "metadata": {},
   "source": [
    "Use Markowitz mean-variance method to assign weights to stocks."
   ]
  },
  {
   "cell_type": "markdown",
   "id": "7a715f20",
   "metadata": {},
   "source": [
    "### Import packages"
   ]
  },
  {
   "cell_type": "code",
   "execution_count": 2,
   "id": "659fea01",
   "metadata": {},
   "outputs": [],
   "source": [
    "import yfinance as yf\n",
    "import pandas as pd\n",
    "import matplotlib.pyplot as plt\n",
    "import numpy as np\n",
    "from scipy.stats import norm\n",
    "import scipy.optimize as sco"
   ]
  },
  {
   "cell_type": "markdown",
   "id": "23d498ca",
   "metadata": {},
   "source": [
    "### Step 1: Import stock data which can be found on https://finance.yahoo.com."
   ]
  },
  {
   "cell_type": "code",
   "execution_count": 4,
   "id": "3efed415",
   "metadata": {},
   "outputs": [
    {
     "name": "stdout",
     "output_type": "stream",
     "text": [
      "[*********************100%***********************]  50 of 50 completed\n"
     ]
    }
   ],
   "source": [
    "sp500 = pd.read_html(\"https://en.wikipedia.org/wiki/List_of_S%26P_500_companies\")[0]\n",
    "sp500[\"Symbol\"] = sp500[\"Symbol\"].str.replace(\".\", \"-\", regex=True)\n",
    "sectors=sp500['GICS Sector'].unique()[0:5]\n",
    "sp50=sp500[sp500['GICS Sector'].isin(sectors)]\n",
    "sp50=sp50[sp50['Date first added']<'2017-01-01']\n",
    "sp50=sp50[0:50]\n",
    "company_symbol=sp50['Symbol'].tolist()\n",
    "sp50_data=yf.download(tickers=company_symbol,start=\"2017-10-01\",end = '2022-11-26', group_by='ticker')"
   ]
  },
  {
   "cell_type": "markdown",
   "id": "ca3693c3",
   "metadata": {},
   "source": [
    "### Step 2: Calculate log-return for each company."
   ]
  },
  {
   "cell_type": "code",
   "execution_count": 5,
   "id": "8e9aaff8",
   "metadata": {},
   "outputs": [
    {
     "data": {
      "text/html": [
       "<div>\n",
       "<style scoped>\n",
       "    .dataframe tbody tr th:only-of-type {\n",
       "        vertical-align: middle;\n",
       "    }\n",
       "\n",
       "    .dataframe tbody tr th {\n",
       "        vertical-align: top;\n",
       "    }\n",
       "\n",
       "    .dataframe thead tr th {\n",
       "        text-align: left;\n",
       "    }\n",
       "\n",
       "    .dataframe thead tr:last-of-type th {\n",
       "        text-align: right;\n",
       "    }\n",
       "</style>\n",
       "<table border=\"1\" class=\"dataframe\">\n",
       "  <thead>\n",
       "    <tr>\n",
       "      <th></th>\n",
       "      <th colspan=\"6\" halign=\"left\">ACN</th>\n",
       "      <th colspan=\"4\" halign=\"left\">CAH</th>\n",
       "      <th>...</th>\n",
       "      <th>CI</th>\n",
       "      <th>CTAS</th>\n",
       "      <th>CSCO</th>\n",
       "      <th>CLX</th>\n",
       "      <th>KO</th>\n",
       "      <th>CTSH</th>\n",
       "      <th>CL</th>\n",
       "      <th>CMCSA</th>\n",
       "      <th>CAG</th>\n",
       "      <th>STZ</th>\n",
       "    </tr>\n",
       "    <tr>\n",
       "      <th></th>\n",
       "      <th>Open</th>\n",
       "      <th>High</th>\n",
       "      <th>Low</th>\n",
       "      <th>Close</th>\n",
       "      <th>Adj Close</th>\n",
       "      <th>Volume</th>\n",
       "      <th>Open</th>\n",
       "      <th>High</th>\n",
       "      <th>Low</th>\n",
       "      <th>Close</th>\n",
       "      <th>...</th>\n",
       "      <th>Return</th>\n",
       "      <th>Return</th>\n",
       "      <th>Return</th>\n",
       "      <th>Return</th>\n",
       "      <th>Return</th>\n",
       "      <th>Return</th>\n",
       "      <th>Return</th>\n",
       "      <th>Return</th>\n",
       "      <th>Return</th>\n",
       "      <th>Return</th>\n",
       "    </tr>\n",
       "    <tr>\n",
       "      <th>Date</th>\n",
       "      <th></th>\n",
       "      <th></th>\n",
       "      <th></th>\n",
       "      <th></th>\n",
       "      <th></th>\n",
       "      <th></th>\n",
       "      <th></th>\n",
       "      <th></th>\n",
       "      <th></th>\n",
       "      <th></th>\n",
       "      <th></th>\n",
       "      <th></th>\n",
       "      <th></th>\n",
       "      <th></th>\n",
       "      <th></th>\n",
       "      <th></th>\n",
       "      <th></th>\n",
       "      <th></th>\n",
       "      <th></th>\n",
       "      <th></th>\n",
       "      <th></th>\n",
       "    </tr>\n",
       "  </thead>\n",
       "  <tbody>\n",
       "    <tr>\n",
       "      <th>2017-10-02</th>\n",
       "      <td>135.229996</td>\n",
       "      <td>135.839996</td>\n",
       "      <td>134.619995</td>\n",
       "      <td>135.440002</td>\n",
       "      <td>124.799629</td>\n",
       "      <td>2667500</td>\n",
       "      <td>67.220001</td>\n",
       "      <td>68.389999</td>\n",
       "      <td>67.120003</td>\n",
       "      <td>68.239998</td>\n",
       "      <td>...</td>\n",
       "      <td>NaN</td>\n",
       "      <td>NaN</td>\n",
       "      <td>NaN</td>\n",
       "      <td>NaN</td>\n",
       "      <td>NaN</td>\n",
       "      <td>NaN</td>\n",
       "      <td>NaN</td>\n",
       "      <td>NaN</td>\n",
       "      <td>NaN</td>\n",
       "      <td>NaN</td>\n",
       "    </tr>\n",
       "    <tr>\n",
       "      <th>2017-10-03</th>\n",
       "      <td>134.839996</td>\n",
       "      <td>135.970001</td>\n",
       "      <td>133.660004</td>\n",
       "      <td>134.250000</td>\n",
       "      <td>123.703117</td>\n",
       "      <td>2534900</td>\n",
       "      <td>68.250000</td>\n",
       "      <td>68.379997</td>\n",
       "      <td>67.440002</td>\n",
       "      <td>67.599998</td>\n",
       "      <td>...</td>\n",
       "      <td>0.015643</td>\n",
       "      <td>0.013319</td>\n",
       "      <td>0.002959</td>\n",
       "      <td>0.002700</td>\n",
       "      <td>0.008668</td>\n",
       "      <td>0.001379</td>\n",
       "      <td>-0.007016</td>\n",
       "      <td>0.008653</td>\n",
       "      <td>0.002097</td>\n",
       "      <td>-0.001355</td>\n",
       "    </tr>\n",
       "    <tr>\n",
       "      <th>2017-10-04</th>\n",
       "      <td>134.520004</td>\n",
       "      <td>135.679993</td>\n",
       "      <td>134.460007</td>\n",
       "      <td>135.160004</td>\n",
       "      <td>124.541634</td>\n",
       "      <td>2193000</td>\n",
       "      <td>67.599998</td>\n",
       "      <td>68.190002</td>\n",
       "      <td>67.339996</td>\n",
       "      <td>67.519997</td>\n",
       "      <td>...</td>\n",
       "      <td>-0.006480</td>\n",
       "      <td>-0.001222</td>\n",
       "      <td>-0.012186</td>\n",
       "      <td>0.011183</td>\n",
       "      <td>0.006837</td>\n",
       "      <td>0.001377</td>\n",
       "      <td>0.006056</td>\n",
       "      <td>0.007543</td>\n",
       "      <td>0.016328</td>\n",
       "      <td>0.010493</td>\n",
       "    </tr>\n",
       "    <tr>\n",
       "      <th>2017-10-05</th>\n",
       "      <td>135.500000</td>\n",
       "      <td>136.369995</td>\n",
       "      <td>135.270004</td>\n",
       "      <td>136.220001</td>\n",
       "      <td>125.518341</td>\n",
       "      <td>1666100</td>\n",
       "      <td>67.629997</td>\n",
       "      <td>67.930000</td>\n",
       "      <td>67.320000</td>\n",
       "      <td>67.639999</td>\n",
       "      <td>...</td>\n",
       "      <td>-0.000367</td>\n",
       "      <td>0.005488</td>\n",
       "      <td>0.004476</td>\n",
       "      <td>-0.017906</td>\n",
       "      <td>0.000439</td>\n",
       "      <td>0.007542</td>\n",
       "      <td>0.004518</td>\n",
       "      <td>-0.006239</td>\n",
       "      <td>0.004114</td>\n",
       "      <td>0.039330</td>\n",
       "    </tr>\n",
       "    <tr>\n",
       "      <th>2017-10-06</th>\n",
       "      <td>136.160004</td>\n",
       "      <td>136.970001</td>\n",
       "      <td>135.720001</td>\n",
       "      <td>136.250000</td>\n",
       "      <td>125.545975</td>\n",
       "      <td>1275700</td>\n",
       "      <td>67.599998</td>\n",
       "      <td>67.889999</td>\n",
       "      <td>65.599998</td>\n",
       "      <td>65.879997</td>\n",
       "      <td>...</td>\n",
       "      <td>0.001415</td>\n",
       "      <td>0.007203</td>\n",
       "      <td>0.004752</td>\n",
       "      <td>0.001395</td>\n",
       "      <td>-0.000659</td>\n",
       "      <td>0.008163</td>\n",
       "      <td>-0.006716</td>\n",
       "      <td>-0.008905</td>\n",
       "      <td>-0.000587</td>\n",
       "      <td>0.004101</td>\n",
       "    </tr>\n",
       "  </tbody>\n",
       "</table>\n",
       "<p>5 rows × 350 columns</p>\n",
       "</div>"
      ],
      "text/plain": [
       "                   ACN                                                  \\\n",
       "                  Open        High         Low       Close   Adj Close   \n",
       "Date                                                                     \n",
       "2017-10-02  135.229996  135.839996  134.619995  135.440002  124.799629   \n",
       "2017-10-03  134.839996  135.970001  133.660004  134.250000  123.703117   \n",
       "2017-10-04  134.520004  135.679993  134.460007  135.160004  124.541634   \n",
       "2017-10-05  135.500000  136.369995  135.270004  136.220001  125.518341   \n",
       "2017-10-06  136.160004  136.970001  135.720001  136.250000  125.545975   \n",
       "\n",
       "                           CAH                                   ...  \\\n",
       "             Volume       Open       High        Low      Close  ...   \n",
       "Date                                                             ...   \n",
       "2017-10-02  2667500  67.220001  68.389999  67.120003  68.239998  ...   \n",
       "2017-10-03  2534900  68.250000  68.379997  67.440002  67.599998  ...   \n",
       "2017-10-04  2193000  67.599998  68.190002  67.339996  67.519997  ...   \n",
       "2017-10-05  1666100  67.629997  67.930000  67.320000  67.639999  ...   \n",
       "2017-10-06  1275700  67.599998  67.889999  65.599998  65.879997  ...   \n",
       "\n",
       "                  CI      CTAS      CSCO       CLX        KO      CTSH  \\\n",
       "              Return    Return    Return    Return    Return    Return   \n",
       "Date                                                                     \n",
       "2017-10-02       NaN       NaN       NaN       NaN       NaN       NaN   \n",
       "2017-10-03  0.015643  0.013319  0.002959  0.002700  0.008668  0.001379   \n",
       "2017-10-04 -0.006480 -0.001222 -0.012186  0.011183  0.006837  0.001377   \n",
       "2017-10-05 -0.000367  0.005488  0.004476 -0.017906  0.000439  0.007542   \n",
       "2017-10-06  0.001415  0.007203  0.004752  0.001395 -0.000659  0.008163   \n",
       "\n",
       "                  CL     CMCSA       CAG       STZ  \n",
       "              Return    Return    Return    Return  \n",
       "Date                                                \n",
       "2017-10-02       NaN       NaN       NaN       NaN  \n",
       "2017-10-03 -0.007016  0.008653  0.002097 -0.001355  \n",
       "2017-10-04  0.006056  0.007543  0.016328  0.010493  \n",
       "2017-10-05  0.004518 -0.006239  0.004114  0.039330  \n",
       "2017-10-06 -0.006716 -0.008905 -0.000587  0.004101  \n",
       "\n",
       "[5 rows x 350 columns]"
      ]
     },
     "execution_count": 5,
     "metadata": {},
     "output_type": "execute_result"
    }
   ],
   "source": [
    "for symbol in company_symbol:\n",
    "    sp50_data[symbol,'Return']=np.log(sp50_data[symbol]['Close']/sp50_data[symbol]['Close'].shift(1))\n",
    "sp50_data.head()"
   ]
  },
  {
   "cell_type": "markdown",
   "id": "36133156",
   "metadata": {},
   "source": [
    "### Step 3: Construct a data frame about the stocks' daily log-return."
   ]
  },
  {
   "cell_type": "code",
   "execution_count": 6,
   "id": "e02e5da1",
   "metadata": {},
   "outputs": [
    {
     "data": {
      "text/html": [
       "<div>\n",
       "<style scoped>\n",
       "    .dataframe tbody tr th:only-of-type {\n",
       "        vertical-align: middle;\n",
       "    }\n",
       "\n",
       "    .dataframe tbody tr th {\n",
       "        vertical-align: top;\n",
       "    }\n",
       "\n",
       "    .dataframe thead th {\n",
       "        text-align: right;\n",
       "    }\n",
       "</style>\n",
       "<table border=\"1\" class=\"dataframe\">\n",
       "  <thead>\n",
       "    <tr style=\"text-align: right;\">\n",
       "      <th></th>\n",
       "      <th>MMM</th>\n",
       "      <th>ABT</th>\n",
       "      <th>ABBV</th>\n",
       "      <th>ACN</th>\n",
       "      <th>ATVI</th>\n",
       "      <th>ADM</th>\n",
       "      <th>ADBE</th>\n",
       "      <th>ADP</th>\n",
       "      <th>A</th>\n",
       "      <th>AKAM</th>\n",
       "      <th>...</th>\n",
       "      <th>CI</th>\n",
       "      <th>CTAS</th>\n",
       "      <th>CSCO</th>\n",
       "      <th>CLX</th>\n",
       "      <th>KO</th>\n",
       "      <th>CTSH</th>\n",
       "      <th>CL</th>\n",
       "      <th>CMCSA</th>\n",
       "      <th>CAG</th>\n",
       "      <th>STZ</th>\n",
       "    </tr>\n",
       "    <tr>\n",
       "      <th>Date</th>\n",
       "      <th></th>\n",
       "      <th></th>\n",
       "      <th></th>\n",
       "      <th></th>\n",
       "      <th></th>\n",
       "      <th></th>\n",
       "      <th></th>\n",
       "      <th></th>\n",
       "      <th></th>\n",
       "      <th></th>\n",
       "      <th></th>\n",
       "      <th></th>\n",
       "      <th></th>\n",
       "      <th></th>\n",
       "      <th></th>\n",
       "      <th></th>\n",
       "      <th></th>\n",
       "      <th></th>\n",
       "      <th></th>\n",
       "      <th></th>\n",
       "      <th></th>\n",
       "    </tr>\n",
       "  </thead>\n",
       "  <tbody>\n",
       "    <tr>\n",
       "      <th>2017-10-02</th>\n",
       "      <td>NaN</td>\n",
       "      <td>NaN</td>\n",
       "      <td>NaN</td>\n",
       "      <td>NaN</td>\n",
       "      <td>NaN</td>\n",
       "      <td>NaN</td>\n",
       "      <td>NaN</td>\n",
       "      <td>NaN</td>\n",
       "      <td>NaN</td>\n",
       "      <td>NaN</td>\n",
       "      <td>...</td>\n",
       "      <td>NaN</td>\n",
       "      <td>NaN</td>\n",
       "      <td>NaN</td>\n",
       "      <td>NaN</td>\n",
       "      <td>NaN</td>\n",
       "      <td>NaN</td>\n",
       "      <td>NaN</td>\n",
       "      <td>NaN</td>\n",
       "      <td>NaN</td>\n",
       "      <td>NaN</td>\n",
       "    </tr>\n",
       "    <tr>\n",
       "      <th>2017-10-03</th>\n",
       "      <td>0.008471</td>\n",
       "      <td>0.001303</td>\n",
       "      <td>-0.007663</td>\n",
       "      <td>-0.008825</td>\n",
       "      <td>0.000946</td>\n",
       "      <td>0.002344</td>\n",
       "      <td>0.004451</td>\n",
       "      <td>0.012635</td>\n",
       "      <td>0.004307</td>\n",
       "      <td>0.009950</td>\n",
       "      <td>...</td>\n",
       "      <td>0.015643</td>\n",
       "      <td>0.013319</td>\n",
       "      <td>0.002959</td>\n",
       "      <td>0.002700</td>\n",
       "      <td>0.008668</td>\n",
       "      <td>0.001379</td>\n",
       "      <td>-0.007016</td>\n",
       "      <td>0.008653</td>\n",
       "      <td>0.002097</td>\n",
       "      <td>-0.001355</td>\n",
       "    </tr>\n",
       "    <tr>\n",
       "      <th>2017-10-04</th>\n",
       "      <td>0.009047</td>\n",
       "      <td>0.010917</td>\n",
       "      <td>0.002227</td>\n",
       "      <td>0.006756</td>\n",
       "      <td>-0.013008</td>\n",
       "      <td>0.007230</td>\n",
       "      <td>-0.004384</td>\n",
       "      <td>0.006213</td>\n",
       "      <td>0.010383</td>\n",
       "      <td>0.000000</td>\n",
       "      <td>...</td>\n",
       "      <td>-0.006480</td>\n",
       "      <td>-0.001222</td>\n",
       "      <td>-0.012186</td>\n",
       "      <td>0.011183</td>\n",
       "      <td>0.006837</td>\n",
       "      <td>0.001377</td>\n",
       "      <td>0.006056</td>\n",
       "      <td>0.007543</td>\n",
       "      <td>0.016328</td>\n",
       "      <td>0.010493</td>\n",
       "    </tr>\n",
       "    <tr>\n",
       "      <th>2017-10-05</th>\n",
       "      <td>-0.000693</td>\n",
       "      <td>0.010617</td>\n",
       "      <td>0.003110</td>\n",
       "      <td>0.007812</td>\n",
       "      <td>0.007318</td>\n",
       "      <td>0.007409</td>\n",
       "      <td>0.015426</td>\n",
       "      <td>0.019292</td>\n",
       "      <td>-0.001977</td>\n",
       "      <td>0.005529</td>\n",
       "      <td>...</td>\n",
       "      <td>-0.000367</td>\n",
       "      <td>0.005488</td>\n",
       "      <td>0.004476</td>\n",
       "      <td>-0.017906</td>\n",
       "      <td>0.000439</td>\n",
       "      <td>0.007542</td>\n",
       "      <td>0.004518</td>\n",
       "      <td>-0.006239</td>\n",
       "      <td>0.004114</td>\n",
       "      <td>0.039330</td>\n",
       "    </tr>\n",
       "    <tr>\n",
       "      <th>2017-10-06</th>\n",
       "      <td>0.000693</td>\n",
       "      <td>0.001456</td>\n",
       "      <td>0.003432</td>\n",
       "      <td>0.000220</td>\n",
       "      <td>0.002533</td>\n",
       "      <td>-0.008107</td>\n",
       "      <td>0.005774</td>\n",
       "      <td>-0.000793</td>\n",
       "      <td>0.009996</td>\n",
       "      <td>-0.002958</td>\n",
       "      <td>...</td>\n",
       "      <td>0.001415</td>\n",
       "      <td>0.007203</td>\n",
       "      <td>0.004752</td>\n",
       "      <td>0.001395</td>\n",
       "      <td>-0.000659</td>\n",
       "      <td>0.008163</td>\n",
       "      <td>-0.006716</td>\n",
       "      <td>-0.008905</td>\n",
       "      <td>-0.000587</td>\n",
       "      <td>0.004101</td>\n",
       "    </tr>\n",
       "    <tr>\n",
       "      <th>...</th>\n",
       "      <td>...</td>\n",
       "      <td>...</td>\n",
       "      <td>...</td>\n",
       "      <td>...</td>\n",
       "      <td>...</td>\n",
       "      <td>...</td>\n",
       "      <td>...</td>\n",
       "      <td>...</td>\n",
       "      <td>...</td>\n",
       "      <td>...</td>\n",
       "      <td>...</td>\n",
       "      <td>...</td>\n",
       "      <td>...</td>\n",
       "      <td>...</td>\n",
       "      <td>...</td>\n",
       "      <td>...</td>\n",
       "      <td>...</td>\n",
       "      <td>...</td>\n",
       "      <td>...</td>\n",
       "      <td>...</td>\n",
       "      <td>...</td>\n",
       "    </tr>\n",
       "    <tr>\n",
       "      <th>2022-11-18</th>\n",
       "      <td>-0.003072</td>\n",
       "      <td>0.012692</td>\n",
       "      <td>0.018363</td>\n",
       "      <td>-0.002231</td>\n",
       "      <td>0.003921</td>\n",
       "      <td>0.005797</td>\n",
       "      <td>-0.020847</td>\n",
       "      <td>0.009694</td>\n",
       "      <td>0.012043</td>\n",
       "      <td>0.001761</td>\n",
       "      <td>...</td>\n",
       "      <td>0.022525</td>\n",
       "      <td>0.013645</td>\n",
       "      <td>0.025431</td>\n",
       "      <td>0.006356</td>\n",
       "      <td>0.007058</td>\n",
       "      <td>0.008372</td>\n",
       "      <td>0.015420</td>\n",
       "      <td>0.006981</td>\n",
       "      <td>0.028497</td>\n",
       "      <td>0.011330</td>\n",
       "    </tr>\n",
       "    <tr>\n",
       "      <th>2022-11-21</th>\n",
       "      <td>0.006840</td>\n",
       "      <td>0.000096</td>\n",
       "      <td>0.013650</td>\n",
       "      <td>0.001813</td>\n",
       "      <td>0.009402</td>\n",
       "      <td>0.010039</td>\n",
       "      <td>-0.028729</td>\n",
       "      <td>0.006152</td>\n",
       "      <td>-0.007208</td>\n",
       "      <td>-0.000330</td>\n",
       "      <td>...</td>\n",
       "      <td>-0.012356</td>\n",
       "      <td>0.000645</td>\n",
       "      <td>-0.003564</td>\n",
       "      <td>0.017156</td>\n",
       "      <td>0.015258</td>\n",
       "      <td>-0.029959</td>\n",
       "      <td>0.005998</td>\n",
       "      <td>-0.004357</td>\n",
       "      <td>0.012440</td>\n",
       "      <td>0.019078</td>\n",
       "    </tr>\n",
       "    <tr>\n",
       "      <th>2022-11-22</th>\n",
       "      <td>0.007571</td>\n",
       "      <td>0.009485</td>\n",
       "      <td>0.016914</td>\n",
       "      <td>0.020245</td>\n",
       "      <td>0.014335</td>\n",
       "      <td>0.016101</td>\n",
       "      <td>0.028789</td>\n",
       "      <td>0.016822</td>\n",
       "      <td>0.077655</td>\n",
       "      <td>0.008870</td>\n",
       "      <td>...</td>\n",
       "      <td>0.012795</td>\n",
       "      <td>0.012509</td>\n",
       "      <td>0.015834</td>\n",
       "      <td>0.011121</td>\n",
       "      <td>0.004340</td>\n",
       "      <td>0.017543</td>\n",
       "      <td>-0.007176</td>\n",
       "      <td>0.021599</td>\n",
       "      <td>0.004933</td>\n",
       "      <td>0.010169</td>\n",
       "    </tr>\n",
       "    <tr>\n",
       "      <th>2022-11-23</th>\n",
       "      <td>-0.004677</td>\n",
       "      <td>0.010906</td>\n",
       "      <td>-0.002506</td>\n",
       "      <td>0.005584</td>\n",
       "      <td>0.009313</td>\n",
       "      <td>-0.009154</td>\n",
       "      <td>0.014700</td>\n",
       "      <td>0.002326</td>\n",
       "      <td>-0.009673</td>\n",
       "      <td>0.002069</td>\n",
       "      <td>...</td>\n",
       "      <td>0.001533</td>\n",
       "      <td>0.000176</td>\n",
       "      <td>0.003920</td>\n",
       "      <td>-0.012596</td>\n",
       "      <td>0.004481</td>\n",
       "      <td>0.013416</td>\n",
       "      <td>0.007306</td>\n",
       "      <td>0.012176</td>\n",
       "      <td>0.007896</td>\n",
       "      <td>0.006606</td>\n",
       "    </tr>\n",
       "    <tr>\n",
       "      <th>2022-11-25</th>\n",
       "      <td>0.008092</td>\n",
       "      <td>0.008827</td>\n",
       "      <td>0.001442</td>\n",
       "      <td>0.006329</td>\n",
       "      <td>-0.041589</td>\n",
       "      <td>0.006386</td>\n",
       "      <td>-0.004417</td>\n",
       "      <td>0.005204</td>\n",
       "      <td>0.010310</td>\n",
       "      <td>0.006506</td>\n",
       "      <td>...</td>\n",
       "      <td>0.012614</td>\n",
       "      <td>0.001909</td>\n",
       "      <td>-0.003506</td>\n",
       "      <td>0.002612</td>\n",
       "      <td>0.000958</td>\n",
       "      <td>0.014717</td>\n",
       "      <td>-0.002082</td>\n",
       "      <td>0.003372</td>\n",
       "      <td>0.006758</td>\n",
       "      <td>0.003112</td>\n",
       "    </tr>\n",
       "  </tbody>\n",
       "</table>\n",
       "<p>1298 rows × 50 columns</p>\n",
       "</div>"
      ],
      "text/plain": [
       "                 MMM       ABT      ABBV       ACN      ATVI       ADM  \\\n",
       "Date                                                                     \n",
       "2017-10-02       NaN       NaN       NaN       NaN       NaN       NaN   \n",
       "2017-10-03  0.008471  0.001303 -0.007663 -0.008825  0.000946  0.002344   \n",
       "2017-10-04  0.009047  0.010917  0.002227  0.006756 -0.013008  0.007230   \n",
       "2017-10-05 -0.000693  0.010617  0.003110  0.007812  0.007318  0.007409   \n",
       "2017-10-06  0.000693  0.001456  0.003432  0.000220  0.002533 -0.008107   \n",
       "...              ...       ...       ...       ...       ...       ...   \n",
       "2022-11-18 -0.003072  0.012692  0.018363 -0.002231  0.003921  0.005797   \n",
       "2022-11-21  0.006840  0.000096  0.013650  0.001813  0.009402  0.010039   \n",
       "2022-11-22  0.007571  0.009485  0.016914  0.020245  0.014335  0.016101   \n",
       "2022-11-23 -0.004677  0.010906 -0.002506  0.005584  0.009313 -0.009154   \n",
       "2022-11-25  0.008092  0.008827  0.001442  0.006329 -0.041589  0.006386   \n",
       "\n",
       "                ADBE       ADP         A      AKAM  ...        CI      CTAS  \\\n",
       "Date                                                ...                       \n",
       "2017-10-02       NaN       NaN       NaN       NaN  ...       NaN       NaN   \n",
       "2017-10-03  0.004451  0.012635  0.004307  0.009950  ...  0.015643  0.013319   \n",
       "2017-10-04 -0.004384  0.006213  0.010383  0.000000  ... -0.006480 -0.001222   \n",
       "2017-10-05  0.015426  0.019292 -0.001977  0.005529  ... -0.000367  0.005488   \n",
       "2017-10-06  0.005774 -0.000793  0.009996 -0.002958  ...  0.001415  0.007203   \n",
       "...              ...       ...       ...       ...  ...       ...       ...   \n",
       "2022-11-18 -0.020847  0.009694  0.012043  0.001761  ...  0.022525  0.013645   \n",
       "2022-11-21 -0.028729  0.006152 -0.007208 -0.000330  ... -0.012356  0.000645   \n",
       "2022-11-22  0.028789  0.016822  0.077655  0.008870  ...  0.012795  0.012509   \n",
       "2022-11-23  0.014700  0.002326 -0.009673  0.002069  ...  0.001533  0.000176   \n",
       "2022-11-25 -0.004417  0.005204  0.010310  0.006506  ...  0.012614  0.001909   \n",
       "\n",
       "                CSCO       CLX        KO      CTSH        CL     CMCSA  \\\n",
       "Date                                                                     \n",
       "2017-10-02       NaN       NaN       NaN       NaN       NaN       NaN   \n",
       "2017-10-03  0.002959  0.002700  0.008668  0.001379 -0.007016  0.008653   \n",
       "2017-10-04 -0.012186  0.011183  0.006837  0.001377  0.006056  0.007543   \n",
       "2017-10-05  0.004476 -0.017906  0.000439  0.007542  0.004518 -0.006239   \n",
       "2017-10-06  0.004752  0.001395 -0.000659  0.008163 -0.006716 -0.008905   \n",
       "...              ...       ...       ...       ...       ...       ...   \n",
       "2022-11-18  0.025431  0.006356  0.007058  0.008372  0.015420  0.006981   \n",
       "2022-11-21 -0.003564  0.017156  0.015258 -0.029959  0.005998 -0.004357   \n",
       "2022-11-22  0.015834  0.011121  0.004340  0.017543 -0.007176  0.021599   \n",
       "2022-11-23  0.003920 -0.012596  0.004481  0.013416  0.007306  0.012176   \n",
       "2022-11-25 -0.003506  0.002612  0.000958  0.014717 -0.002082  0.003372   \n",
       "\n",
       "                 CAG       STZ  \n",
       "Date                            \n",
       "2017-10-02       NaN       NaN  \n",
       "2017-10-03  0.002097 -0.001355  \n",
       "2017-10-04  0.016328  0.010493  \n",
       "2017-10-05  0.004114  0.039330  \n",
       "2017-10-06 -0.000587  0.004101  \n",
       "...              ...       ...  \n",
       "2022-11-18  0.028497  0.011330  \n",
       "2022-11-21  0.012440  0.019078  \n",
       "2022-11-22  0.004933  0.010169  \n",
       "2022-11-23  0.007896  0.006606  \n",
       "2022-11-25  0.006758  0.003112  \n",
       "\n",
       "[1298 rows x 50 columns]"
      ]
     },
     "execution_count": 6,
     "metadata": {},
     "output_type": "execute_result"
    }
   ],
   "source": [
    "data_return=pd.DataFrame(data=None,columns=company_symbol)\n",
    "for i in range(50):\n",
    "    data_return[company_symbol[i]]=sp50_data[company_symbol[i]].loc[:,'Return']\n",
    "data_return"
   ]
  },
  {
   "cell_type": "markdown",
   "id": "f89c0e33",
   "metadata": {},
   "source": [
    "### Step 4: Plot the kernel density to verify the normal distribution."
   ]
  },
  {
   "cell_type": "code",
   "execution_count": 7,
   "id": "8e267f7e",
   "metadata": {},
   "outputs": [
    {
     "data": {
      "text/plain": [
       "<AxesSubplot:ylabel='Density'>"
      ]
     },
     "execution_count": 7,
     "metadata": {},
     "output_type": "execute_result"
    },
    {
     "data": {
      "image/png": "[encoded data removed]",
      "text/plain": [
       "<Figure size 864x576 with 1 Axes>"
      ]
     },
     "metadata": {
      "needs_background": "light"
     },
     "output_type": "display_data"
    }
   ],
   "source": [
    "data_return.plot(kind = 'kde',figsize=(12,8),legend=False)"
   ]
  },
  {
   "cell_type": "markdown",
   "id": "03b3c4c9",
   "metadata": {},
   "source": [
    "### Step 5: Use Monte Carlo method to generate 2500 weight vectors of 50 companies."
   ]
  },
  {
   "cell_type": "markdown",
   "id": "82cd51cc",
   "metadata": {},
   "source": [
    "#### Calculate the corresponding returns and risk."
   ]
  },
  {
   "cell_type": "code",
   "execution_count": 8,
   "id": "2f0c5d89",
   "metadata": {},
   "outputs": [],
   "source": [
    "prets = []\n",
    "pvols = []\n",
    "for p in range(2500):\n",
    "    weights = np.random.random(50)\n",
    "    weights /= np.sum(weights)\n",
    "    prets.append(np.sum(data_return[data_return.index<'2022-08-27'].mean()*weights)*252)\n",
    "    pvols.append(np.sqrt(np.dot(\n",
    "        weights.T,np.dot(data_return[data_return.index<'2022-08-27'].cov()*252,weights))))\n",
    "prets = np.array(prets)\n",
    "pvols = np.array(pvols)"
   ]
  },
  {
   "cell_type": "markdown",
   "id": "82dc1e86",
   "metadata": {},
   "source": [
    "#### Set the sharpe ratio as the colorbar value."
   ]
  },
  {
   "cell_type": "code",
   "execution_count": 14,
   "id": "b7d4c7f5",
   "metadata": {},
   "outputs": [
    {
     "data": {
      "text/plain": [
       "<matplotlib.colorbar.Colorbar at 0x7f7812eec4f0>"
      ]
     },
     "execution_count": 14,
     "metadata": {},
     "output_type": "execute_result"
    },
    {
     "data": {
      "image/png": "[encoded data removed]",
      "text/plain": [
       "<Figure size 576x288 with 2 Axes>"
      ]
     },
     "metadata": {
      "needs_background": "light"
     },
     "output_type": "display_data"
    }
   ],
   "source": [
    "plt.figure(figsize = (8,4))\n",
    "plt.scatter(pvols,prets,c=prets/pvols,marker = 'o')\n",
    "plt.grid(True)\n",
    "plt.xlabel('expected volatility')\n",
    "plt.ylabel('expected return')\n",
    "plt.colorbar(label='Sharpe ratio')"
   ]
  },
  {
   "cell_type": "markdown",
   "id": "c4f3d497",
   "metadata": {},
   "source": [
    " ### Step 6: Define a function to calculate the return, risk and sharpe ratio based on given weights of 50 companies."
   ]
  },
  {
   "cell_type": "code",
   "execution_count": 16,
   "id": "8195f5b5",
   "metadata": {},
   "outputs": [],
   "source": [
    "def statistics(weights):\n",
    "    weights = np.array(weights)\n",
    "    pret = np.sum(data_return[data_return.index<'2022-08-27'].mean() * weights)*252\n",
    "    pvol = np.sqrt(np.dot(weights.T,\n",
    "                          np.dot(data_return[data_return.index<'2022-08-27'].cov()*252,weights)))\n",
    "    return np.array([pret,pvol,pret/pvol])"
   ]
  },
  {
   "cell_type": "markdown",
   "id": "2b351501",
   "metadata": {},
   "source": [
    "#### Set the constraint function and bounds.\n",
    "- The sum of weigths equals to 1\n",
    "- Set the weight bounds with (0,1)."
   ]
  },
  {
   "cell_type": "code",
   "execution_count": 17,
   "id": "477f1b38",
   "metadata": {},
   "outputs": [],
   "source": [
    "cons=({'type':'eq','fun':lambda x: np.sum(x)-1})\n",
    "bnds = tuple((0,1) for x in range(50))"
   ]
  },
  {
   "cell_type": "markdown",
   "id": "6d838ac8",
   "metadata": {},
   "source": [
    "### Step 7: For maximizing the profit."
   ]
  },
  {
   "cell_type": "markdown",
   "id": "2fb0ee2f",
   "metadata": {},
   "source": [
    "#### Define the objective function to return the sharpe ratio based on the given weights."
   ]
  },
  {
   "cell_type": "code",
   "execution_count": 18,
   "id": "fbaa6af9",
   "metadata": {},
   "outputs": [],
   "source": [
    "def max_func_sharpe(weights):\n",
    "    return -statistics(weights)[2]\n",
    "opts = sco.minimize(max_func_sharpe,50*[1./50],method = 'SLSQP',\n",
    "                   bounds = bnds, constraints = cons)"
   ]
  },
  {
   "cell_type": "markdown",
   "id": "5a1f6029",
   "metadata": {},
   "source": [
    "#### Select the companies whose weights are non-zero."
   ]
  },
  {
   "cell_type": "code",
   "execution_count": 20,
   "id": "f5cfcae4",
   "metadata": {},
   "outputs": [
    {
     "data": {
      "text/html": [
       "<div>\n",
       "<style scoped>\n",
       "    .dataframe tbody tr th:only-of-type {\n",
       "        vertical-align: middle;\n",
       "    }\n",
       "\n",
       "    .dataframe tbody tr th {\n",
       "        vertical-align: top;\n",
       "    }\n",
       "\n",
       "    .dataframe thead th {\n",
       "        text-align: right;\n",
       "    }\n",
       "</style>\n",
       "<table border=\"1\" class=\"dataframe\">\n",
       "  <thead>\n",
       "    <tr style=\"text-align: right;\">\n",
       "      <th></th>\n",
       "      <th>com</th>\n",
       "      <th>ww</th>\n",
       "    </tr>\n",
       "  </thead>\n",
       "  <tbody>\n",
       "    <tr>\n",
       "      <th>5</th>\n",
       "      <td>ADM</td>\n",
       "      <td>0.111</td>\n",
       "    </tr>\n",
       "    <tr>\n",
       "      <th>21</th>\n",
       "      <td>AAPL</td>\n",
       "      <td>0.528</td>\n",
       "    </tr>\n",
       "    <tr>\n",
       "      <th>39</th>\n",
       "      <td>CHD</td>\n",
       "      <td>0.219</td>\n",
       "    </tr>\n",
       "    <tr>\n",
       "      <th>41</th>\n",
       "      <td>CTAS</td>\n",
       "      <td>0.142</td>\n",
       "    </tr>\n",
       "  </tbody>\n",
       "</table>\n",
       "</div>"
      ],
      "text/plain": [
       "     com     ww\n",
       "5    ADM  0.111\n",
       "21  AAPL  0.528\n",
       "39   CHD  0.219\n",
       "41  CTAS  0.142"
      ]
     },
     "execution_count": 20,
     "metadata": {},
     "output_type": "execute_result"
    }
   ],
   "source": [
    "ww=list(opts['x'].round(3))\n",
    "com=list(company_symbol)\n",
    "see=pd.DataFrame({'com':com,'ww':ww})\n",
    "see[see['ww']>0]"
   ]
  },
  {
   "cell_type": "markdown",
   "id": "30747d72",
   "metadata": {},
   "source": [
    "#### See the return, risk, sharpe ratio of the selected portforlio."
   ]
  },
  {
   "cell_type": "code",
   "execution_count": 21,
   "id": "215d17c6",
   "metadata": {},
   "outputs": [
    {
     "data": {
      "text/plain": [
       "array([0.23 , 0.237, 0.968])"
      ]
     },
     "execution_count": 21,
     "metadata": {},
     "output_type": "execute_result"
    }
   ],
   "source": [
    "statistics(opts['x'].round(3)).round(3)"
   ]
  },
  {
   "cell_type": "markdown",
   "id": "90b18d09",
   "metadata": {},
   "source": [
    "### Step 8: For minimizing the profit."
   ]
  },
  {
   "cell_type": "markdown",
   "id": "7bea2a55",
   "metadata": {},
   "source": [
    "#### Define the objective function to return the sharpe ratio based on the given weights."
   ]
  },
  {
   "cell_type": "code",
   "execution_count": 26,
   "id": "f0661bd0",
   "metadata": {},
   "outputs": [],
   "source": [
    "def min_func_sharpe(weights):\n",
    "    return statistics(weights)[2]\n",
    "mins = sco.minimize(min_func_sharpe,50*[1./50],method = 'SLSQP',\n",
    "                   bounds = bnds, constraints = cons)"
   ]
  },
  {
   "cell_type": "markdown",
   "id": "147709a2",
   "metadata": {},
   "source": [
    "#### Select the companies whose weights are non-zero."
   ]
  },
  {
   "cell_type": "code",
   "execution_count": 27,
   "id": "016a5aea",
   "metadata": {},
   "outputs": [
    {
     "data": {
      "text/html": [
       "<div>\n",
       "<style scoped>\n",
       "    .dataframe tbody tr th:only-of-type {\n",
       "        vertical-align: middle;\n",
       "    }\n",
       "\n",
       "    .dataframe tbody tr th {\n",
       "        vertical-align: top;\n",
       "    }\n",
       "\n",
       "    .dataframe thead th {\n",
       "        text-align: right;\n",
       "    }\n",
       "</style>\n",
       "<table border=\"1\" class=\"dataframe\">\n",
       "  <thead>\n",
       "    <tr style=\"text-align: right;\">\n",
       "      <th></th>\n",
       "      <th>com</th>\n",
       "      <th>ww</th>\n",
       "    </tr>\n",
       "  </thead>\n",
       "  <tbody>\n",
       "    <tr>\n",
       "      <th>0</th>\n",
       "      <td>MMM</td>\n",
       "      <td>0.271</td>\n",
       "    </tr>\n",
       "    <tr>\n",
       "      <th>15</th>\n",
       "      <td>AAL</td>\n",
       "      <td>0.220</td>\n",
       "    </tr>\n",
       "    <tr>\n",
       "      <th>23</th>\n",
       "      <td>T</td>\n",
       "      <td>0.401</td>\n",
       "    </tr>\n",
       "    <tr>\n",
       "      <th>27</th>\n",
       "      <td>BIIB</td>\n",
       "      <td>0.108</td>\n",
       "    </tr>\n",
       "  </tbody>\n",
       "</table>\n",
       "</div>"
      ],
      "text/plain": [
       "     com     ww\n",
       "0    MMM  0.271\n",
       "15   AAL  0.220\n",
       "23     T  0.401\n",
       "27  BIIB  0.108"
      ]
     },
     "execution_count": 27,
     "metadata": {},
     "output_type": "execute_result"
    }
   ],
   "source": [
    "ww1=list(mins['x'].round(3))\n",
    "com1=list(company_symbol)\n",
    "see1=pd.DataFrame({'com':com1,'ww':ww1})\n",
    "see1[see1['ww']>0]"
   ]
  },
  {
   "cell_type": "markdown",
   "id": "b4bec835",
   "metadata": {},
   "source": [
    "#### See the return, risk, sharpe ratio of the selected portforlio."
   ]
  },
  {
   "cell_type": "code",
   "execution_count": 28,
   "id": "55bd5951",
   "metadata": {},
   "outputs": [
    {
     "data": {
      "text/plain": [
       "array([-0.135,  0.256, -0.527])"
      ]
     },
     "execution_count": 28,
     "metadata": {},
     "output_type": "execute_result"
    }
   ],
   "source": [
    "statistics(mins['x'].round(3)).round(3)"
   ]
  },
  {
   "cell_type": "code",
   "execution_count": null,
   "id": "c4cc02d7",
   "metadata": {},
   "outputs": [],
   "source": []
  }
 ],
 "metadata": {
  "kernelspec": {
   "display_name": "Python 3 (ipykernel)",
   "language": "python",
   "name": "python3"
  },
  "language_info": {
   "codemirror_mode": {
    "name": "ipython",
    "version": 3
   },
   "file_extension": ".py",
   "mimetype": "text/x-python",
   "name": "python",
   "nbconvert_exporter": "python",
   "pygments_lexer": "ipython3",
   "version": "3.9.12"
  }
 },
 "nbformat": 4,
 "nbformat_minor": 5
}
